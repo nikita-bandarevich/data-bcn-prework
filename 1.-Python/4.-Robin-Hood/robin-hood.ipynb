{
 "cells": [
  {
   "cell_type": "markdown",
   "metadata": {},
   "source": [
    "<img src=\"https://bit.ly/2VnXWr2\" width=\"100\" align=\"left\"/>"
   ]
  },
  {
   "cell_type": "markdown",
   "metadata": {},
   "source": [
    "# Robin Hood\n",
    "Robin Hood has entered a competition to win the archery contest in Sherwood. With his bow and arrows, he needs to shoot on a target and try to hit as close as possible to the center.\n",
    "\n",
    "![](images/arrows.jpg)\n",
    "\n",
    "## Context\n",
    "In this challenge, the landing position of arrows shot by archers in the competition will be represented using 2-dimensional coordinates. \n",
    "\n",
    "In the 2-dimensional space, a point can be defined by a pair of values that correspond to the horizontal coordinate (x) and the vertical coordinate (y). For example, in our case, an arrow that hits the center of the archery target will land in position (0, 0) on the coordinate axes. \n",
    "\n",
    "The space can be divided into 4 zones (quadrants): Q1, Q2, Q3, Q4. If a point is in Q1, both its x coordinate and y coordinate are positive. Any point with a null x or y coordinate is considered to not belong to any quadrant. \n",
    "\n",
    "If you want to know more about the cartesian coordinate system, you can check this [link](https://en.wikipedia.org/wiki/Cartesian_coordinate_system). \n",
    "\n",
    "## Tools\n",
    "You don't necessarily need to use all the tools. Maybe you opt to use some of them or completely different ones, they are given to help you shape the exercise. Programming exercises can be solved in many different ways.\n",
    "* Data structures: **lists, sets, tuples**\n",
    "* Conditional statements: **if-elif-else**\n",
    "* Loop: **while/for**\n",
    "* Minimum (optional sorting)\n",
    "\n",
    "## Tasks\n",
    "Robin Hood has hit the following points:"
   ]
  },
  {
   "cell_type": "code",
   "execution_count": 7,
   "metadata": {},
   "outputs": [],
   "source": [
    "points = [(4, 5), (-0, 2), (4, 7), (1, -3), (3, -2), (4, 5), (3, 2), (5, 7), (-5, 7), (2, 2), (-4, 5), (0, -2),\n",
    "          (-4, 7), (-1, 3), (-3, 2), (-4, -5), (-3, 2), (5, 7), (5, 7), (2, 2), (9, 9), (-8, -9)]"
   ]
  },
  {
   "cell_type": "markdown",
   "metadata": {},
   "source": [
    "#### 1. Robin Hood is famous for hitting an arrow with another arrow. Find the coordinates of the points where an arrow hits another arrow."
   ]
  },
  {
   "cell_type": "code",
   "execution_count": 3,
   "metadata": {},
   "outputs": [
    {
     "name": "stdout",
     "output_type": "stream",
     "text": [
      "[(4, 5), (-3, 2), (5, 7), (2, 2)]\n",
      "{(4, 5): 2, (0, 2): 1, (4, 7): 1, (1, -3): 1, (3, -2): 1, (3, 2): 1, (5, 7): 3, (-5, 7): 1, (2, 2): 2, (-4, 5): 1, (0, -2): 1, (-4, 7): 1, (-1, 3): 1, (-3, 2): 2, (-4, -5): 1, (9, 9): 1, (-8, -9): 1}\n"
     ]
    }
   ],
   "source": [
    "uniques = []\n",
    "duplicates = []\n",
    "num_arr = {}\n",
    "\n",
    "for n in points:\n",
    "    if n not in uniques:\n",
    "        uniques.append(n)\n",
    "\n",
    "for n in points:\n",
    "    if n not in num_arr:\n",
    "        num_arr[n] = 1;\n",
    "    else: \n",
    "        if num_arr[n] == 1:\n",
    "            duplicates.append(n)\n",
    "        num_arr[n] += 1; \n",
    "\n",
    "print(duplicates)\n",
    "\n",
    "print(num_arr)"
   ]
  },
  {
   "cell_type": "markdown",
   "metadata": {},
   "source": [
    "#### 2. Calculate how many arrows have fallen in each quadrant. \n",
    "**Note**: the arrows that fall in the axis (x=0 or y=0) don't belong to any quadrant."
   ]
  },
  {
   "cell_type": "code",
   "execution_count": 9,
   "metadata": {},
   "outputs": [
    {
     "name": "stdout",
     "output_type": "stream",
     "text": [
      "[[4, 5], [0, 2], [4, 7], [1, -3], [3, -2], [4, 5], [3, 2], [5, 7], [-5, 7], [2, 2], [-4, 5], [0, -2], [-4, 7], [-1, 3], [-3, 2], [-4, -5], [-3, 2], [5, 7], [5, 7], [2, 2], [9, 9], [-8, -9]]\n",
      "10 arrows in Q1\n",
      "6 arrows in Q2\n",
      "2 arrows in Q3\n",
      "2 arrows in Q4\n",
      "[1, 11]\n"
     ]
    }
   ],
   "source": [
    "arrows_q1 = []\n",
    "arrows_q2 = []\n",
    "arrows_q3 = []\n",
    "arrows_q4 = []\n",
    "non = []\n",
    "\n",
    "points = [list(x) for x in points]\n",
    "\n",
    "print(points)\n",
    "\n",
    "arrow_count = range(len(points))\n",
    "\n",
    "for x in arrow_count:\n",
    "    if points[x][0] > 0 and points[x][1] > 0:\n",
    "        arrows_q1.append(x)\n",
    "    elif points[x][0] < 0 and points[x][1] > 0:\n",
    "        arrows_q2.append(x)\n",
    "    elif points[x][0] < 0 and points[x][1] < 0:\n",
    "        arrows_q3.append(x)\n",
    "    elif points[x][0] > 0 and points[x][1] < 0:\n",
    "        arrows_q4.append(x)\n",
    "    else:\n",
    "        non.append(x)\n",
    "        \n",
    "print(len(arrows_q1), \"arrows in Q1\")\n",
    "print(len(arrows_q2), \"arrows in Q2\")\n",
    "print(len(arrows_q3), \"arrows in Q3\")\n",
    "print(len(arrows_q4), \"arrows in Q4\")\n",
    "print(non)"
   ]
  },
  {
   "cell_type": "markdown",
   "metadata": {},
   "source": [
    "#### 3. Find the point closest to the center. Calculate its distance to the center. \n",
    "Take into account that there might be more than one point at the minimum distance to the center.\n",
    "\n",
    "**Hint**: Use the Euclidean distance. You can find more information about it [here](https://en.wikipedia.org/wiki/Euclidean_distance).  \n",
    "**Hint**: Defining a function that calculates the distance to the center can help."
   ]
  },
  {
   "cell_type": "code",
   "execution_count": 10,
   "metadata": {},
   "outputs": [
    {
     "name": "stdout",
     "output_type": "stream",
     "text": [
      "[6.4031242374328485, 2.0, 8.06225774829855, 3.1622776601683795, 3.605551275463989, 6.4031242374328485, 3.605551275463989, 8.602325267042627, 8.602325267042627, 2.8284271247461903, 6.4031242374328485, 2.0, 8.06225774829855, 3.1622776601683795, 3.605551275463989, 6.4031242374328485, 3.605551275463989, 8.602325267042627, 8.602325267042627, 2.8284271247461903, 12.727922061357855, 12.041594578792296]\n",
      "The minimum distance is 2.0\n"
     ]
    }
   ],
   "source": [
    "distance = []\n",
    "\n",
    "for x in arrow_count:\n",
    "    distance.append((points[x][0]**2 + points[x][1]**2)**0.5)\n",
    "\n",
    "print(distance)\n",
    "\n",
    "print(\"The minimum distance is\", min(distance))"
   ]
  },
  {
   "cell_type": "markdown",
   "metadata": {},
   "source": [
    "#### 4. If the archery target has a radius of 9, calculate the number of arrows that won't hit the target. \n",
    "**Hint**: Use the function created in step 3. "
   ]
  },
  {
   "cell_type": "code",
   "execution_count": 11,
   "metadata": {},
   "outputs": [
    {
     "name": "stdout",
     "output_type": "stream",
     "text": [
      "2 arrows out of target.\n"
     ]
    }
   ],
   "source": [
    "out_target = []\n",
    "\n",
    "for x in distance:\n",
    "    if x > 9:\n",
    "        out_target.append(x)\n",
    "        \n",
    "print(len(out_target), \"arrows out of target.\")"
   ]
  },
  {
   "cell_type": "code",
   "execution_count": null,
   "metadata": {},
   "outputs": [],
   "source": []
  }
 ],
 "metadata": {
  "kernelspec": {
   "display_name": "Python 3",
   "language": "python",
   "name": "python3"
  },
  "language_info": {
   "codemirror_mode": {
    "name": "ipython",
    "version": 3
   },
   "file_extension": ".py",
   "mimetype": "text/x-python",
   "name": "python",
   "nbconvert_exporter": "python",
   "pygments_lexer": "ipython3",
   "version": "3.7.5"
  }
 },
 "nbformat": 4,
 "nbformat_minor": 2
}
